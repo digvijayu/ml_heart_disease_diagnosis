{
 "cells": [
  {
   "cell_type": "code",
   "execution_count": 1,
   "metadata": {},
   "outputs": [
    {
     "name": "stderr",
     "output_type": "stream",
     "text": [
      "/Users/digvijay.upadhyay/anaconda3/lib/python3.6/site-packages/h5py/__init__.py:36: FutureWarning: Conversion of the second argument of issubdtype from `float` to `np.floating` is deprecated. In future, it will be treated as `np.float64 == np.dtype(float).type`.\n",
      "  from ._conv import register_converters as _register_converters\n"
     ]
    }
   ],
   "source": [
    "# import tensorflow, keras and pandas\n",
    "\n",
    "import tensorflow as tf\n",
    "from tensorflow import keras\n",
    "import pandas as pd"
   ]
  },
  {
   "cell_type": "code",
   "execution_count": 2,
   "metadata": {},
   "outputs": [
    {
     "name": "stdout",
     "output_type": "stream",
     "text": [
      "<bound method NDFrame.describe of      age  sex  cp  trestbps  chol  fbs  restecg  thalach  exang  oldpeak  num\n",
      "236   54    1   4       140   216    0        0      105      0      1.5    1\n",
      "110   52    1   2       160   196    0        0      165      0      0.0    0\n",
      "218   58    1   3       160   211    1        1       92      0      0.0    1\n",
      "130   54    1   2       160   305    0        0      175      0      0.0    0\n",
      "178   48    1   4       106   263    1        0      110      0      0.0    1\n",
      "138   55    1   2       145   326    0        0      155      0      0.0    0\n",
      "36    40    1   2       130   275    0        0      150      0      0.0    0\n",
      "35    39    1   4       130   307    0        0      140      0      0.0    0\n",
      "204   48    1   4       122   275    1        1      150      1      2.0    1\n",
      "11    35    0   1       120   160    0        1      185      0      0.0    0\n",
      "90    49    1   3       140   187    0        0      172      0      0.0    0\n",
      "43    41    1   2       120   291    0        1      160      0      0.0    0\n",
      "24    37    1   4       120   223    0        0      168      0      0.0    0\n",
      "116   53    1   4       124   260    0        1      112      1      3.0    0\n",
      "76    47    1   1       110   249    0        0      150      0      0.0    0\n",
      "128   54    1   2       120   246    0        0      110      0      0.0    0\n",
      "59    43    1   2       142   207    0        0      138      0      0.0    0\n",
      "223   44    1   4       130   290    0        0      100      1      2.0    1\n",
      "140   55    1   3       120   220    0        2      134      0      0.0    0\n",
      "42    41    0   2       130   245    0        0      150      0      0.0    0\n",
      "247   44    1   4       135   491    0        0      135      0      0.0    1\n",
      "188   54    1   4       125   216    0        0      140      0      0.0    1\n",
      "233   52    1   4       160   246    0        1       82      1      4.0    1\n",
      "13    35    1   2       120   308    0        2      180      0      0.0    0\n",
      "150   58    1   2       130   251    0        0      110      0      0.0    0\n",
      "118   53    1   4       140   243    0        0      155      0      0.0    0\n",
      "125   54    1   1       120   171    0        0      137      0      2.0    0\n",
      "151   58    1   3       140   179    0        0      160      0      0.0    0\n",
      "107   52    0   4       130   180    0        0      140      1      1.5    0\n",
      "97    50    1   4       150   215    0        0      140      1      0.0    0\n",
      "..   ...  ...  ..       ...   ...  ...      ...      ...    ...      ...  ...\n",
      "7     33    1   3       120   298    0        0      185      0      0.0    0\n",
      "119   54    0   2       120   221    0        0      138      0      1.0    0\n",
      "231   52    1   4       130   298    0        0      110      1      1.0    1\n",
      "38    40    1   3       130   215    0        0      138      0      0.0    0\n",
      "249   47    1   4       160   291    0        1      158      1      3.0    1\n",
      "152   58    1   4       135   222    0        0      100      0      0.0    0\n",
      "104   51    1   4       130   179    0        0      100      0      0.0    0\n",
      "28    39    0   3       110   182    0        1      180      0      0.0    0\n",
      "159   61    1   4       125   292    0        1      115      1      0.0    0\n",
      "111   52    1   3       140   259    0        1      170      0      0.0    0\n",
      "83    48    0   4       150   227    0        0      130      1      1.0    0\n",
      "222   44    1   2       150   288    0        0      150      1      3.0    1\n",
      "220   41    1   4       130   172    0        1      130      0      2.0    1\n",
      "207   48    1   4       160   355    0        0       99      1      2.0    1\n",
      "187   52    1   4       130   225    0        0      120      1      2.0    1\n",
      "256   54    0   3       130   294    0        1      100      1      0.0    1\n",
      "181   49    0   3       160   180    0        0      156      0      1.0    1\n",
      "133   55    0   2       110   344    0        1      160      0      0.0    0\n",
      "136   55    1   2       120   256    1        0      137      0      0.0    0\n",
      "164   34    1   1       140   156    0        0      180      0      0.0    1\n",
      "199   40    0   4       150   392    0        0      130      0      2.0    1\n",
      "89    49    1   2       100   253    0        0      174      0      0.0    0\n",
      "73    46    1   4       110   240    0        1      140      0      0.0    0\n",
      "56    43    0   2       120   249    0        1      176      0      0.0    0\n",
      "179   48    1   4       120   260    0        0      115      0      2.0    1\n",
      "78    47    1   4       140   276    1        0      125      1      0.0    0\n",
      "109   52    1   2       140   100    0        0      138      1      0.0    0\n",
      "19    37    0   2       120   260    0        0      130      0      0.0    0\n",
      "176   47    1   3       140   193    0        0      145      1      1.0    1\n",
      "32    39    1   3       120   339    0        0      170      0      0.0    0\n",
      "\n",
      "[260 rows x 11 columns]>\n"
     ]
    }
   ],
   "source": [
    "# read data file\n",
    "# shuffle the rows since we had removed some columns and rows\n",
    "# to achieve better accuracy \n",
    "data = pd.read_csv('data/data_cleaned_up.csv', na_values=['.'])\n",
    "data = data.sample(frac=1)\n",
    "print(data.describe)"
   ]
  },
  {
   "cell_type": "code",
   "execution_count": 3,
   "metadata": {},
   "outputs": [
    {
     "name": "stdout",
     "output_type": "stream",
     "text": [
      "[ 54.    1.    4.  140.  216.    0.    0.  105.    0.    1.5]\n",
      "1\n",
      "(100, 10)\n"
     ]
    }
   ],
   "source": [
    "# separate the output data (column 'num') from rest of the data\n",
    "values_series = data['num']\n",
    "x_data = data.pop('num')\n",
    "\n",
    "# split input(x) and output (y) data \n",
    "# for training and testing\n",
    "train_x_data = data[0:100]\n",
    "train_y_data = x_data[0:100]\n",
    "train_x_data = train_x_data.values\n",
    "train_y_data = train_y_data.values\n",
    "\n",
    "test_x_data = data[100:]\n",
    "test_y_data = x_data[100:]\n",
    "test_x_data = test_x_data.values\n",
    "test_y_data = test_y_data.values\n",
    "\n",
    "\n",
    "print(train_x_data[0])\n",
    "print(train_y_data[0])\n",
    "\n",
    "print(train_x_data.shape)"
   ]
  },
  {
   "cell_type": "code",
   "execution_count": 4,
   "metadata": {},
   "outputs": [
    {
     "name": "stdout",
     "output_type": "stream",
     "text": [
      "_________________________________________________________________\n",
      "Layer (type)                 Output Shape              Param #   \n",
      "=================================================================\n",
      "dense (Dense)                (None, 10)                110       \n",
      "_________________________________________________________________\n",
      "dense_1 (Dense)              (None, 64)                704       \n",
      "_________________________________________________________________\n",
      "dense_2 (Dense)              (None, 32)                2080      \n",
      "_________________________________________________________________\n",
      "dense_3 (Dense)              (None, 16)                528       \n",
      "_________________________________________________________________\n",
      "dense_4 (Dense)              (None, 1)                 17        \n",
      "=================================================================\n",
      "Total params: 3,439\n",
      "Trainable params: 3,439\n",
      "Non-trainable params: 0\n",
      "_________________________________________________________________\n"
     ]
    }
   ],
   "source": [
    "# create model\n",
    "model = keras.Sequential()\n",
    "\n",
    "# add layers\n",
    "model.add(keras.layers.Dense(10, activation=tf.nn.relu, input_shape=(train_x_data.shape[1],)))\n",
    "model.add(keras.layers.Dense(64, activation=tf.nn.relu))\n",
    "model.add(keras.layers.Dense(32, activation=tf.nn.relu))\n",
    "model.add(keras.layers.Dense(16, activation=tf.nn.relu))\n",
    "\n",
    "# last layer has only two possible outcomes\n",
    "# either 0 or 1 indicating not diagnosed and diagnosed respectively\n",
    "model.add(keras.layers.Dense(1, activation=tf.nn.sigmoid))\n",
    "\n",
    "# get summary of the model\n",
    "model.summary()\n",
    "\n"
   ]
  },
  {
   "cell_type": "code",
   "execution_count": 5,
   "metadata": {},
   "outputs": [],
   "source": [
    "# compile the model\n",
    "model.compile(optimizer=tf.train.AdamOptimizer(),\n",
    "              loss='binary_crossentropy',\n",
    "              metrics=['accuracy'])"
   ]
  },
  {
   "cell_type": "code",
   "execution_count": 6,
   "metadata": {},
   "outputs": [
    {
     "name": "stdout",
     "output_type": "stream",
     "text": [
      "Train on 100 samples, validate on 160 samples\n",
      "Epoch 1/40\n",
      "100/100 [==============================] - 0s 3ms/step - loss: 5.1371 - acc: 0.4000 - val_loss: 4.0750 - val_acc: 0.3625\n",
      "Epoch 2/40\n",
      "100/100 [==============================] - 0s 22us/step - loss: 3.7225 - acc: 0.4000 - val_loss: 2.6069 - val_acc: 0.3625\n",
      "Epoch 3/40\n",
      "100/100 [==============================] - 0s 23us/step - loss: 2.3368 - acc: 0.4000 - val_loss: 1.3622 - val_acc: 0.4313\n",
      "Epoch 4/40\n",
      "100/100 [==============================] - 0s 27us/step - loss: 1.1822 - acc: 0.4700 - val_loss: 0.7186 - val_acc: 0.5875\n",
      "Epoch 5/40\n",
      "100/100 [==============================] - 0s 23us/step - loss: 0.6439 - acc: 0.6000 - val_loss: 0.8430 - val_acc: 0.6375\n",
      "Epoch 6/40\n",
      "100/100 [==============================] - 0s 29us/step - loss: 0.8766 - acc: 0.6100 - val_loss: 1.1645 - val_acc: 0.6375\n",
      "Epoch 7/40\n",
      "100/100 [==============================] - 0s 65us/step - loss: 1.2597 - acc: 0.6000 - val_loss: 1.3551 - val_acc: 0.6375\n",
      "Epoch 8/40\n",
      "100/100 [==============================] - 0s 34us/step - loss: 1.4761 - acc: 0.6000 - val_loss: 1.4053 - val_acc: 0.6375\n",
      "Epoch 9/40\n",
      "100/100 [==============================] - 0s 23us/step - loss: 1.5323 - acc: 0.6100 - val_loss: 1.3525 - val_acc: 0.6375\n",
      "Epoch 10/40\n",
      "100/100 [==============================] - 0s 22us/step - loss: 1.4748 - acc: 0.6100 - val_loss: 1.2326 - val_acc: 0.6500\n",
      "Epoch 11/40\n",
      "100/100 [==============================] - 0s 34us/step - loss: 1.3381 - acc: 0.6200 - val_loss: 1.0738 - val_acc: 0.6500\n",
      "Epoch 12/40\n",
      "100/100 [==============================] - 0s 33us/step - loss: 1.1530 - acc: 0.6200 - val_loss: 0.9077 - val_acc: 0.6562\n",
      "Epoch 13/40\n",
      "100/100 [==============================] - 0s 28us/step - loss: 0.9502 - acc: 0.6300 - val_loss: 0.7744 - val_acc: 0.6375\n",
      "Epoch 14/40\n",
      "100/100 [==============================] - 0s 21us/step - loss: 0.7696 - acc: 0.6300 - val_loss: 0.7148 - val_acc: 0.6250\n",
      "Epoch 15/40\n",
      "100/100 [==============================] - 0s 24us/step - loss: 0.6576 - acc: 0.6200 - val_loss: 0.7498 - val_acc: 0.6187\n",
      "Epoch 16/40\n",
      "100/100 [==============================] - 0s 33us/step - loss: 0.6413 - acc: 0.6400 - val_loss: 0.8547 - val_acc: 0.5750\n",
      "Epoch 17/40\n",
      "100/100 [==============================] - 0s 31us/step - loss: 0.7062 - acc: 0.6600 - val_loss: 0.9741 - val_acc: 0.5312\n",
      "Epoch 18/40\n",
      "100/100 [==============================] - 0s 18us/step - loss: 0.7997 - acc: 0.5600 - val_loss: 1.0577 - val_acc: 0.5125\n",
      "Epoch 19/40\n",
      "100/100 [==============================] - 0s 22us/step - loss: 0.8703 - acc: 0.5400 - val_loss: 1.0811 - val_acc: 0.5063\n",
      "Epoch 20/40\n",
      "100/100 [==============================] - 0s 28us/step - loss: 0.8911 - acc: 0.5400 - val_loss: 1.0438 - val_acc: 0.5188\n",
      "Epoch 21/40\n",
      "100/100 [==============================] - 0s 25us/step - loss: 0.8604 - acc: 0.5400 - val_loss: 0.9632 - val_acc: 0.5375\n",
      "Epoch 22/40\n",
      "100/100 [==============================] - 0s 26us/step - loss: 0.7935 - acc: 0.5700 - val_loss: 0.8647 - val_acc: 0.5562\n",
      "Epoch 23/40\n",
      "100/100 [==============================] - 0s 20us/step - loss: 0.7156 - acc: 0.6200 - val_loss: 0.7754 - val_acc: 0.5938\n",
      "Epoch 24/40\n",
      "100/100 [==============================] - 0s 20us/step - loss: 0.6523 - acc: 0.6500 - val_loss: 0.7143 - val_acc: 0.6438\n",
      "Epoch 25/40\n",
      "100/100 [==============================] - 0s 18us/step - loss: 0.6207 - acc: 0.6400 - val_loss: 0.6863 - val_acc: 0.6000\n",
      "Epoch 26/40\n",
      "100/100 [==============================] - 0s 20us/step - loss: 0.6223 - acc: 0.6800 - val_loss: 0.6837 - val_acc: 0.6125\n",
      "Epoch 27/40\n",
      "100/100 [==============================] - 0s 26us/step - loss: 0.6457 - acc: 0.6600 - val_loss: 0.6928 - val_acc: 0.6375\n",
      "Epoch 28/40\n",
      "100/100 [==============================] - 0s 37us/step - loss: 0.6744 - acc: 0.6600 - val_loss: 0.7008 - val_acc: 0.6562\n",
      "Epoch 29/40\n",
      "100/100 [==============================] - 0s 29us/step - loss: 0.6946 - acc: 0.6400 - val_loss: 0.7003 - val_acc: 0.6625\n",
      "Epoch 30/40\n",
      "100/100 [==============================] - 0s 19us/step - loss: 0.6990 - acc: 0.6400 - val_loss: 0.6899 - val_acc: 0.6562\n",
      "Epoch 31/40\n",
      "100/100 [==============================] - 0s 20us/step - loss: 0.6866 - acc: 0.6500 - val_loss: 0.6729 - val_acc: 0.6500\n",
      "Epoch 32/40\n",
      "100/100 [==============================] - 0s 19us/step - loss: 0.6620 - acc: 0.6500 - val_loss: 0.6559 - val_acc: 0.6375\n",
      "Epoch 33/40\n",
      "100/100 [==============================] - 0s 32us/step - loss: 0.6329 - acc: 0.6700 - val_loss: 0.6461 - val_acc: 0.6187\n",
      "Epoch 34/40\n",
      "100/100 [==============================] - 0s 24us/step - loss: 0.6080 - acc: 0.6700 - val_loss: 0.6484 - val_acc: 0.6375\n",
      "Epoch 35/40\n",
      "100/100 [==============================] - 0s 22us/step - loss: 0.5941 - acc: 0.6600 - val_loss: 0.6626 - val_acc: 0.6562\n",
      "Epoch 36/40\n",
      "100/100 [==============================] - 0s 19us/step - loss: 0.5933 - acc: 0.6600 - val_loss: 0.6834 - val_acc: 0.6187\n",
      "Epoch 37/40\n",
      "100/100 [==============================] - 0s 19us/step - loss: 0.6023 - acc: 0.6700 - val_loss: 0.7023 - val_acc: 0.6062\n",
      "Epoch 38/40\n",
      "100/100 [==============================] - 0s 31us/step - loss: 0.6137 - acc: 0.6600 - val_loss: 0.7119 - val_acc: 0.5938\n",
      "Epoch 39/40\n",
      "100/100 [==============================] - 0s 35us/step - loss: 0.6204 - acc: 0.6500 - val_loss: 0.7082 - val_acc: 0.5938\n",
      "Epoch 40/40\n",
      "100/100 [==============================] - 0s 22us/step - loss: 0.6184 - acc: 0.6300 - val_loss: 0.6923 - val_acc: 0.6000\n"
     ]
    }
   ],
   "source": [
    "# model fitting, we train and test the data\n",
    "history = model.fit(train_x_data,\n",
    "                    train_y_data,\n",
    "                    epochs=40,\n",
    "                    batch_size=256,\n",
    "                    validation_data=(test_x_data, test_y_data),\n",
    "                    verbose=1)"
   ]
  },
  {
   "cell_type": "code",
   "execution_count": 7,
   "metadata": {},
   "outputs": [
    {
     "name": "stdout",
     "output_type": "stream",
     "text": [
      "160/160 [==============================] - 0s 33us/step\n",
      "[0.6922703623771668, 0.6]\n"
     ]
    }
   ],
   "source": [
    "# evaluate the model\n",
    "results = model.evaluate(test_x_data, test_y_data)\n",
    "\n",
    "print(results)"
   ]
  },
  {
   "cell_type": "code",
   "execution_count": 10,
   "metadata": {},
   "outputs": [
    {
     "data": {
      "image/png": "[encoded data removed]",
      "text/plain": [
       "<Figure size 432x288 with 1 Axes>"
      ]
     },
     "metadata": {},
     "output_type": "display_data"
    }
   ],
   "source": [
    "# Create graph for acuracy and loss\n",
    "history_dict = history.history\n",
    "history_dict.keys()\n",
    "\n",
    "import matplotlib.pyplot as plt\n",
    "\n",
    "acc = history.history['acc']\n",
    "val_acc = history.history['val_acc']\n",
    "loss = history.history['loss']\n",
    "val_loss = history.history['val_loss']\n",
    "\n",
    "epochs = range(1, len(acc) + 1)\n",
    "\n",
    "# \"bo\" is for \"blue dot\"\n",
    "plt.plot(epochs, loss, 'bo', label='Training loss')\n",
    "# b is for \"solid blue line\"\n",
    "plt.plot(epochs, val_loss, 'b', label='Validation loss')\n",
    "plt.title('Training and validation loss')\n",
    "plt.xlabel('Epochs')\n",
    "plt.ylabel('Loss')\n",
    "plt.legend()\n",
    "\n",
    "plt.show()"
   ]
  },
  {
   "cell_type": "code",
   "execution_count": 9,
   "metadata": {},
   "outputs": [
    {
     "data": {
      "image/png": "[encoded data removed]",
      "text/plain": [
       "<Figure size 432x288 with 1 Axes>"
      ]
     },
     "metadata": {},
     "output_type": "display_data"
    }
   ],
   "source": [
    "plt.clf()   # clear figure\n",
    "acc_values = history_dict['acc']\n",
    "val_acc_values = history_dict['val_acc']\n",
    "\n",
    "plt.plot(epochs, acc, 'bo', label='Training acc')\n",
    "plt.plot(epochs, val_acc, 'b', label='Validation acc')\n",
    "plt.title('Training and validation accuracy')\n",
    "plt.xlabel('Epochs')\n",
    "plt.ylabel('Accuracy')\n",
    "plt.legend()\n",
    "\n",
    "plt.show()"
   ]
  }
 ],
 "metadata": {
  "kernelspec": {
   "display_name": "Python 3",
   "language": "python",
   "name": "python3"
  },
  "language_info": {
   "codemirror_mode": {
    "name": "ipython",
    "version": 3
   },
   "file_extension": ".py",
   "mimetype": "text/x-python",
   "name": "python",
   "nbconvert_exporter": "python",
   "pygments_lexer": "ipython3",
   "version": "3.6.5"
  }
 },
 "nbformat": 4,
 "nbformat_minor": 2
}
